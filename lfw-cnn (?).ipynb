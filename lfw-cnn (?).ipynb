{
 "cells": [
  {
   "cell_type": "code",
   "execution_count": 36,
   "metadata": {
    "collapsed": true
   },
   "outputs": [],
   "source": [
    "%matplotlib inline"
   ]
  },
  {
   "cell_type": "code",
   "execution_count": null,
   "metadata": {},
   "outputs": [],
   "source": [
    "from __future__ import division\n",
    "from sklearn.datasets import fetch_lfw_people\n",
    "from sklearn.decomposition import PCA\n",
    "from sklearn.model_selection import train_test_split\n",
    "import numpy as np\n",
    "import tensorflow as tf\n",
    "from math import sqrt\n",
    "from tensorflow.contrib import learn\n",
    "from tensorflow.contrib.learn.python.learn.estimators import model_fn as model_fn_lib\n",
    "import matplotlib.pyplot as plt\n",
    "\n",
    "LEARNING_RATE = .001\n",
    "PCA_COMPONENTS = 80\n",
    "EPOCHS = 100\n",
    "\n",
    "# color = true keeps color channels seperate\n",
    "# with min_faces set to 14 - there will be 106 possible classifications\n",
    "\n",
    "people = fetch_lfw_people(\n",
    "    color=True,\n",
    "    resize=0.25,\n",
    "    slice_=(slice(61,189), slice(61,189)),\n",
    "    min_faces_per_person=14\n",
    ")\n",
    "\n",
    "X = people.images\n",
    "y = np.asarray(people.target, dtype=np.int32)\n",
    "\n",
    "labels = people.target_names\n",
    "n_classes = labels.shape[0]"
   ]
  },
  {
   "cell_type": "code",
   "execution_count": 38,
   "metadata": {},
   "outputs": [],
   "source": [
    "def init_weights(shape):\n",
    "    # Fix weight computation for RELU activations\n",
    "    sigma = sqrt(2. / (1024 + 625))\n",
    "    return tf.Variable(tf.random_normal(shape, stddev=sigma))\n",
    "\n",
    "def model(X, w1, w2, w_fc, w_o, p_keep_conv, p_keep_hidden, act=tf.nn.relu, dropout=True):\n",
    "    # First layer\n",
    "    l1a = act(tf.nn.conv2d(X, w1, strides=[1, 1, 1, 1], padding='SAME'))\n",
    "\n",
    "    l1 = tf.nn.max_pool(l1a, ksize=[1, 2, 2, 1], strides=[1, 2, 2, 1], padding='SAME')\n",
    "    l1 = tf.nn.dropout(l1, p_keep_conv) if dropout else l1\n",
    "\n",
    "    # Second layer\n",
    "    l2a = act(tf.nn.conv2d(l1, w2, strides=[1, 1, 1, 1], padding='SAME'))\n",
    "    l2 = tf.nn.max_pool(l2a, ksize=[1, 2, 2, 1], strides=[1, 2, 2, 1], padding='SAME')\n",
    "    l2 = tf.nn.dropout(l2, p_keep_conv) if dropout else l2\n",
    "\n",
    "    # Flattening to feed through fully-connected layer\n",
    "    l2 = tf.reshape(l2, [-1, w_fc.get_shape().as_list()[0]])    # reshape to (?, 8x8x64)\n",
    "\n",
    "    # RELU feed-forward activation layer\n",
    "    l3 = act(tf.matmul(l2, w_fc))\n",
    "    l3 = tf.nn.dropout(l3, p_keep_hidden) if dropout else l3\n",
    "\n",
    "    # Classification layer\n",
    "    pyx = tf.matmul(l3, w_o)\n",
    "\n",
    "    return pyx\n",
    "\n",
    "def one_hot(target):\n",
    "    labels = np.zeros(shape=(target.shape[0], target.max() + 1))\n",
    "    for i, x in enumerate(target):\n",
    "        labels[i][x] = 1\n",
    "\n",
    "    return labels"
   ]
  },
  {
   "cell_type": "markdown",
   "metadata": {},
   "source": [
    "We define the model as such "
   ]
  },
  {
   "cell_type": "code",
   "execution_count": 39,
   "metadata": {},
   "outputs": [],
   "source": [
    "X_train, X_test, y_train, y_test = train_test_split(X, y, test_size=.3)\n",
    "y_train = one_hot(y_train)\n",
    "y_test = one_hot(y_test)\n",
    "\n",
    "tX = tf.placeholder(\"float\", [None, 32, 32, 3])\n",
    "tY = tf.placeholder(\"float\", [None, 106])\n",
    "\n",
    "w1 = init_weights([3, 3, 3, 32])\n",
    "w2 = init_weights([3, 3, 32, 64])\n",
    "w_fc = init_weights([64 * 8 * 8, 625])\n",
    "w_o = init_weights([625, 106])\n",
    "\n",
    "p_keep_conv = tf.placeholder(\"float\")\n",
    "p_keep_hidden = tf.placeholder(\"float\")\n",
    "py_x = model(tX, w1, w2, w_fc, w_o, p_keep_conv, p_keep_hidden)\n",
    "\n",
    "cost = tf.reduce_mean(tf.nn.softmax_cross_entropy_with_logits(logits=py_x, labels=tY))\n",
    "train_op = tf.train.RMSPropOptimizer(LEARNING_RATE, decay=0.9).minimize(cost)\n",
    "predict_op = tf.argmax(py_x, 1)"
   ]
  },
  {
   "cell_type": "code",
   "execution_count": null,
   "metadata": {},
   "outputs": [],
   "source": [
    "import time\n",
    "accuracies = []\n",
    "\n",
    "tf.summary.histogram('conv_weights', w1)\n",
    "merged = tf.summary.merge_all()\n",
    "\n",
    "# Launch the graph in a session\n",
    "with tf.Session() as sess:\n",
    "    writer = tf.summary.FileWriter(\"./cnn/lfw-data-%s\" % time.ctime(), sess.graph)\n",
    "\n",
    "    # you need to initialize all variables\n",
    "    tf.global_variables_initializer().run()\n",
    "    for i in range(EPOCHS):\n",
    "        training_batch = zip(range(0, len(X_train), 128),\n",
    "                             range(128, len(X_train) + 1, 128))\n",
    "        for start, end in training_batch:\n",
    "            sess.run(train_op, feed_dict={\n",
    "                tX: X_train[start:end],\n",
    "                tY: y_train[start:end],\n",
    "                p_keep_conv: 0.8,\n",
    "                p_keep_hidden: 0.5\n",
    "            })\n",
    "\n",
    "        test_indices = np.arange(len(X_test))  # Get A Test Batch\n",
    "        np.random.shuffle(test_indices)\n",
    "        test_indices = test_indices[0:200]\n",
    "\n",
    "        summary, res = sess.run([merged, predict_op], feed_dict = {\n",
    "            tX: X_test[test_indices],\n",
    "            p_keep_conv: 1.0,\n",
    "            p_keep_hidden: 1.0\n",
    "        })\n",
    "        acc = np.mean(np.argmax(y_test[test_indices], axis=1) == res)\n",
    "        accuracies.append(acc)\n",
    "        writer.add_summary(summary, i)\n",
    "        print(i, acc)\n",
    "\n",
    "    writer.close()"
   ]
  },
  {
   "cell_type": "code",
   "execution_count": 44,
   "metadata": {},
   "outputs": [
    {
     "data": {
      "image/png": "[encoded data removed]",
      "text/plain": [
       "<matplotlib.figure.Figure at 0x121fd3f90>"
      ]
     },
     "metadata": {},
     "output_type": "display_data"
    }
   ],
   "source": [
    "# Plot accuracy\n",
    "fig = plt.figure()\n",
    "ax = fig.add_subplot(111)\n",
    "ax.plot(accuracies)\n",
    "plt.xlabel('Epoch')\n",
    "plt.ylabel('Accuracy (%)')\n",
    "plt.title(\"CNN Classification Accuracy per Epoch\")\n",
    "plt.show()"
   ]
  }
 ],
 "metadata": {
  "kernelspec": {
   "display_name": "Python 2",
   "language": "python",
   "name": "python2"
  },
  "language_info": {
   "codemirror_mode": {
    "name": "ipython",
    "version": 2
   },
   "file_extension": ".py",
   "mimetype": "text/x-python",
   "name": "python",
   "nbconvert_exporter": "python",
   "pygments_lexer": "ipython2",
   "version": "2.7.13"
  }
 },
 "nbformat": 4,
 "nbformat_minor": 2
}
